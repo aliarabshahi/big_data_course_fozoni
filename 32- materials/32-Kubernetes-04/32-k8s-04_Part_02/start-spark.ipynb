{
 "cells": [
  {
   "cell_type": "code",
   "execution_count": null,
   "id": "c1b18c81",
   "metadata": {},
   "outputs": [],
   "source": [
    "import findspark\n",
    "\n",
    "findspark.init()"
   ]
  },
  {
   "cell_type": "code",
   "execution_count": null,
   "id": "4779fce9",
   "metadata": {},
   "outputs": [],
   "source": [
    "import pyspark\n",
    "\n",
    "from pyspark.sql import SparkSession"
   ]
  },
  {
   "cell_type": "code",
   "execution_count": null,
   "id": "b65de3b9",
   "metadata": {},
   "outputs": [],
   "source": [
    "spark=SparkSession.builder.master('ADDRESS of YOUR SPARK SERVER').appName('Step0-Hands-On').getOrCreate()"
   ]
  },
  {
   "cell_type": "code",
   "execution_count": null,
   "id": "769b760d",
   "metadata": {},
   "outputs": [],
   "source": [
    "import random\n",
    "\n",
    "NUM_SAMPLES=100\n",
    "\n",
    "def inside(p):\n",
    "    x,y = random.random(), random.random()\n",
    "    return x*x + y*y < 1\n",
    "\n",
    "data_rdd = spark.sparkContext.parallelize(range(0,NUM_SAMPLES)).filter(inside)\n",
    "data = data_rdd.collect()"
   ]
  },
  {
   "cell_type": "code",
   "execution_count": null,
   "id": "1d0a277e",
   "metadata": {
    "scrolled": true
   },
   "outputs": [],
   "source": [
    "print(data)\n",
    "print(\"-\"*50)\n",
    "print('Pi is roughly {}'.format(4.0 * len(data) / NUM_SAMPLES))"
   ]
  },
  {
   "cell_type": "code",
   "execution_count": null,
   "id": "a00a2dd7",
   "metadata": {},
   "outputs": [],
   "source": [
    "data_rdd.getNumPartitions()"
   ]
  },
  {
   "cell_type": "code",
   "execution_count": null,
   "id": "47e3f2bd",
   "metadata": {},
   "outputs": [],
   "source": [
    "spark.stop()\n"
   ]
  }
 ],
 "metadata": {
  "kernelspec": {
   "display_name": "Python 3 (ipykernel)",
   "language": "python",
   "name": "python3"
  },
  "language_info": {
   "codemirror_mode": {
    "name": "ipython",
    "version": 3
   },
   "file_extension": ".py",
   "mimetype": "text/x-python",
   "name": "python",
   "nbconvert_exporter": "python",
   "pygments_lexer": "ipython3",
   "version": "3.10.9"
  }
 },
 "nbformat": 4,
 "nbformat_minor": 5
}
