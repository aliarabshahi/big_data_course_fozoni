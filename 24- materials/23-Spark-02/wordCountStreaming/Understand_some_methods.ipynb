{
 "cells": [
  {
   "cell_type": "code",
   "execution_count": 1,
   "id": "730fa594-837c-4512-8a80-23dcb9042f44",
   "metadata": {},
   "outputs": [],
   "source": [
    "from pyspark.sql import SparkSession\n",
    "from pyspark.sql.functions import explode"
   ]
  },
  {
   "cell_type": "code",
   "execution_count": 2,
   "id": "701b0af9-adc3-4736-893a-c042bbc1afe7",
   "metadata": {},
   "outputs": [],
   "source": [
    "spark = SparkSession.builder.appName(\"example\").getOrCreate()"
   ]
  },
  {
   "cell_type": "code",
   "execution_count": 3,
   "id": "2f6608f4-045a-419b-82f3-fb56e7a3b014",
   "metadata": {},
   "outputs": [],
   "source": [
    "data = [(\"Alice\", 34), (\"Bob\", 45), (\"Charlie\", 28)]\n",
    "columns = [\"name\", \"age\"]"
   ]
  },
  {
   "cell_type": "code",
   "execution_count": 4,
   "id": "df259699-5571-4f3e-81f7-3678934eb8e3",
   "metadata": {},
   "outputs": [],
   "source": [
    "df = spark.createDataFrame(data, columns)"
   ]
  },
  {
   "cell_type": "code",
   "execution_count": 5,
   "id": "b205274e-c4c6-4cd4-9297-cc209c0465e6",
   "metadata": {},
   "outputs": [
    {
     "name": "stdout",
     "output_type": "stream",
     "text": [
      "+-------+---+\n",
      "|   name|age|\n",
      "+-------+---+\n",
      "|  Alice| 34|\n",
      "|    Bob| 45|\n",
      "|Charlie| 28|\n",
      "+-------+---+\n",
      "\n"
     ]
    }
   ],
   "source": [
    "df.show()"
   ]
  },
  {
   "cell_type": "code",
   "execution_count": 6,
   "id": "2d010181-7422-444e-862d-516c80e8f87c",
   "metadata": {},
   "outputs": [],
   "source": [
    "selected_df = df.select(\"name\")"
   ]
  },
  {
   "cell_type": "code",
   "execution_count": 7,
   "id": "977bbfda-b9d1-4ec0-81be-2060c0f08e8f",
   "metadata": {},
   "outputs": [
    {
     "name": "stdout",
     "output_type": "stream",
     "text": [
      "+-------+\n",
      "|   name|\n",
      "+-------+\n",
      "|  Alice|\n",
      "|    Bob|\n",
      "|Charlie|\n",
      "+-------+\n",
      "\n"
     ]
    }
   ],
   "source": [
    "selected_df.show()"
   ]
  },
  {
   "cell_type": "code",
   "execution_count": 8,
   "id": "0a0add75-5cf4-480c-9032-d07a51f4c318",
   "metadata": {},
   "outputs": [],
   "source": [
    "data = [(\"John\", [\"Math\", \"Science\", \"History\"]),\n",
    "        (\"Alice\", [\"English\", \"Math\", \"Physics\"]),\n",
    "        (\"Bob\", [\"Geography\", \"Chemistry\"])]"
   ]
  },
  {
   "cell_type": "code",
   "execution_count": 9,
   "id": "3b0e3235-803f-4345-bfed-665d541c6059",
   "metadata": {},
   "outputs": [],
   "source": [
    "df2 = spark.createDataFrame(data, [\"name\", \"subjects\"])"
   ]
  },
  {
   "cell_type": "code",
   "execution_count": 10,
   "id": "38a237b0-b9b7-4d0a-a849-14ce49529116",
   "metadata": {},
   "outputs": [
    {
     "name": "stdout",
     "output_type": "stream",
     "text": [
      "+-----+--------------------+\n",
      "| name|            subjects|\n",
      "+-----+--------------------+\n",
      "| John|[Math, Science, H...|\n",
      "|Alice|[English, Math, P...|\n",
      "|  Bob|[Geography, Chemi...|\n",
      "+-----+--------------------+\n",
      "\n"
     ]
    }
   ],
   "source": [
    "df2.show()"
   ]
  },
  {
   "cell_type": "code",
   "execution_count": 11,
   "id": "cbb24237-ce7f-49fa-9fef-b97de4a679c9",
   "metadata": {},
   "outputs": [],
   "source": [
    "df_exploded = df2.select(\"name\", explode(\"subjects\").alias(\"exploded_items\"))"
   ]
  },
  {
   "cell_type": "code",
   "execution_count": null,
   "id": "89c8764e-e04a-4d0c-a29d-c8cc47ef78b1",
   "metadata": {},
   "outputs": [],
   "source": [
    "df_exploded.show()"
   ]
  },
  {
   "cell_type": "code",
   "execution_count": null,
   "id": "a6ef7cd0-42b9-44b4-ba0f-5905ce7083b2",
   "metadata": {},
   "outputs": [],
   "source": []
  }
 ],
 "metadata": {
  "kernelspec": {
   "display_name": "Python 3 (ipykernel)",
   "language": "python",
   "name": "python3"
  },
  "language_info": {
   "codemirror_mode": {
    "name": "ipython",
    "version": 3
   },
   "file_extension": ".py",
   "mimetype": "text/x-python",
   "name": "python",
   "nbconvert_exporter": "python",
   "pygments_lexer": "ipython3",
   "version": "3.11.4"
  }
 },
 "nbformat": 4,
 "nbformat_minor": 5
}
