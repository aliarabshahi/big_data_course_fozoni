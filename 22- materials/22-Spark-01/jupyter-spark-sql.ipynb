{
 "cells": [
  {
   "cell_type": "code",
   "execution_count": 1,
   "id": "f47dbd3d-65b6-4240-a7fb-6613ea5a86d3",
   "metadata": {},
   "outputs": [],
   "source": [
    "from pyspark.sql import SparkSession"
   ]
  },
  {
   "cell_type": "code",
   "execution_count": 2,
   "id": "181fc890-b861-4459-8be7-2466bc7be7f8",
   "metadata": {},
   "outputs": [],
   "source": [
    "spark = SparkSession \\\n",
    "        .builder \\\n",
    "        .master(\"local[1]\") \\\n",
    "        .appName(\"Hello-Spark-SQL\") \\\n",
    "        .getOrCreate()"
   ]
  },
  {
   "cell_type": "code",
   "execution_count": null,
   "id": "18df95d2-e058-4423-bce3-55fec661d77a",
   "metadata": {},
   "outputs": [],
   "source": [
    "  surveyDF = spark.read \\\n",
    "        .option(\"header\", \"true\") \\\n",
    "        .option(\"inferSchema\", \"true\") \\\n",
    "        .csv(\"data/sample.csv\")"
   ]
  },
  {
   "cell_type": "code",
   "execution_count": null,
   "id": "7a21d917-0e6a-4a5f-99ee-3d899fc9b69c",
   "metadata": {},
   "outputs": [],
   "source": [
    "surveyDF.createOrReplaceTempView(\"survey_tbl\")\n",
    "\n",
    "countDF = spark.sql(\"select Country, count(1) as count from survey_tbl where Age<40 group by Country\")"
   ]
  },
  {
   "cell_type": "code",
   "execution_count": null,
   "id": "7ad563b4-319e-49e7-a882-09a25d94eb4d",
   "metadata": {},
   "outputs": [],
   "source": [
    "countDF.show()"
   ]
  }
 ],
 "metadata": {
  "kernelspec": {
   "display_name": "Python 3 (ipykernel)",
   "language": "python",
   "name": "python3"
  },
  "language_info": {
   "codemirror_mode": {
    "name": "ipython",
    "version": 3
   },
   "file_extension": ".py",
   "mimetype": "text/x-python",
   "name": "python",
   "nbconvert_exporter": "python",
   "pygments_lexer": "ipython3",
   "version": "3.11.4"
  }
 },
 "nbformat": 4,
 "nbformat_minor": 5
}
